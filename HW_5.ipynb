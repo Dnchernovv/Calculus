{
 "cells": [
  {
   "cell_type": "code",
   "execution_count": 13,
   "metadata": {},
   "outputs": [],
   "source": [
    "import numpy as np\n",
    "from math import factorial, sqrt\n",
    "import matplotlib.pyplot as plt\n",
    "from scipy import stats\n",
    "import itertools"
   ]
  },
  {
   "cell_type": "markdown",
   "metadata": {},
   "source": [
    "## Задание 1"
   ]
  },
  {
   "cell_type": "code",
   "execution_count": 74,
   "metadata": {},
   "outputs": [],
   "source": [
    "def roulette(bet):\n",
    "    draw = round(np.random.uniform(0,36,1)[0])\n",
    "    if bet == draw:\n",
    "        print(f'You win: {draw, bet}')\n",
    "    else:\n",
    "        print(f'You lose:{draw,bet}')"
   ]
  },
  {
   "cell_type": "code",
   "execution_count": 89,
   "metadata": {},
   "outputs": [
    {
     "name": "stdout",
     "output_type": "stream",
     "text": [
      "You win: (0, 0)\n"
     ]
    }
   ],
   "source": [
    "roulette(0)"
   ]
  },
  {
   "cell_type": "markdown",
   "metadata": {},
   "source": [
    "## Задание 2"
   ]
  },
  {
   "cell_type": "markdown",
   "metadata": {},
   "source": [
    "1."
   ]
  },
  {
   "cell_type": "code",
   "execution_count": 39,
   "metadata": {},
   "outputs": [
    {
     "name": "stdout",
     "output_type": "stream",
     "text": [
      "You win: (2, 2)\n"
     ]
    }
   ],
   "source": [
    "def coin():\n",
    "    n = int(input('Определите количество подбрасываний: '))\n",
    "    draws = np.random.binomial(n,0.5)\n",
    "    "
   ]
  },
  {
   "cell_type": "markdown",
   "metadata": {},
   "source": [
    "Не очень понял, как это надо проверять в коде, но ладно"
   ]
  },
  {
   "cell_type": "code",
   "execution_count": 66,
   "metadata": {},
   "outputs": [
    {
     "name": "stdout",
     "output_type": "stream",
     "text": [
      "1\n",
      "1\n",
      "0\n",
      "1\n",
      "1\n",
      "0.03125\n"
     ]
    }
   ],
   "source": [
    "n = 5\n",
    "for i in range(n):\n",
    "    print(np.random.binomial(1,0.5))\n",
    "print(1/2**n)"
   ]
  },
  {
   "cell_type": "code",
   "execution_count": 67,
   "metadata": {},
   "outputs": [
    {
     "data": {
      "text/plain": [
       "0.15625"
      ]
     },
     "execution_count": 67,
     "metadata": {},
     "output_type": "execute_result"
    }
   ],
   "source": [
    "0.03125*5"
   ]
  },
  {
   "cell_type": "markdown",
   "metadata": {},
   "source": [
    "2."
   ]
  },
  {
   "cell_type": "markdown",
   "metadata": {},
   "source": [
    "Возьмем 9 различных выборок случайных чисел, сгенерированных на основе нормального распределния с различными параметрами"
   ]
  },
  {
   "cell_type": "code",
   "execution_count": 32,
   "metadata": {},
   "outputs": [],
   "source": [
    "cumsum = np.zeros((1,10000))\n",
    "draws = []\n",
    "for i in range(10): \n",
    "    draws.append(np.random.normal(np.random.randint(10,100),np.random.randint(1,10),10000))\n",
    "for i in draws:\n",
    "    cumsum += i"
   ]
  },
  {
   "cell_type": "code",
   "execution_count": 41,
   "metadata": {},
   "outputs": [
    {
     "data": {
      "image/png": "[encoded data removed]",
      "text/plain": [
       "<Figure size 432x288 with 1 Axes>"
      ]
     },
     "metadata": {
      "needs_background": "light"
     },
     "output_type": "display_data"
    }
   ],
   "source": [
    "plt.hist(cumsum[0],bins = 50);"
   ]
  },
  {
   "cell_type": "code",
   "execution_count": 48,
   "metadata": {},
   "outputs": [
    {
     "data": {
      "text/plain": [
       "NormaltestResult(statistic=0.950246409186832, pvalue=0.6218084420892053)"
      ]
     },
     "execution_count": 48,
     "metadata": {},
     "output_type": "execute_result"
    }
   ],
   "source": [
    "stats.normaltest(cumsum[0])"
   ]
  },
  {
   "cell_type": "markdown",
   "metadata": {},
   "source": [
    "Случайная выборка, собранная из сумм случайных величин с нормальных распределений, тоже имеет нормально распределение. "
   ]
  },
  {
   "cell_type": "markdown",
   "metadata": {},
   "source": [
    "## Задание 3"
   ]
  },
  {
   "cell_type": "code",
   "execution_count": 4,
   "metadata": {},
   "outputs": [],
   "source": [
    "n = 2**4\n",
    "k = factorial(4)/(factorial(2)*factorial(4-2))"
   ]
  },
  {
   "cell_type": "code",
   "execution_count": 102,
   "metadata": {},
   "outputs": [
    {
     "data": {
      "text/plain": [
       "0.375"
      ]
     },
     "execution_count": 102,
     "metadata": {},
     "output_type": "execute_result"
    }
   ],
   "source": [
    "k*(0.5**2)*(0.5**2)"
   ]
  },
  {
   "cell_type": "markdown",
   "metadata": {},
   "source": [
    "По сути нашей теоретической вероятностью здесь будет 0.375 - мы посчитали это с помощью формула для вероятности Бернулли <br>\n",
    "Мы можем взять чуто побольше эксперимент, чтобы посмотреть, к чему приходят наши оценки (сходятся ли они к теоретической вероятности)"
   ]
  },
  {
   "cell_type": "code",
   "execution_count": 5,
   "metadata": {},
   "outputs": [],
   "source": [
    "g = []\n",
    "for j in range(10000):\n",
    "    k,n = 0, 10000\n",
    "    a = np.random.randint(0, 2, n)\n",
    "    b = np.random.randint(0, 2, n)\n",
    "    c = np.random.randint(0, 2, n)\n",
    "    d = np.random.randint(0, 2, n)\n",
    "\n",
    "    x = a + b + c + d\n",
    "    for i in range(0,n):\n",
    "        if x[i] == 2:\n",
    "            k = k + 1\n",
    "    g.append(k/n)\n",
    "#     print(k, n, k/n)"
   ]
  },
  {
   "cell_type": "code",
   "execution_count": 9,
   "metadata": {},
   "outputs": [
    {
     "data": {
      "text/plain": [
       "[<matplotlib.lines.Line2D at 0x1504c216370>]"
      ]
     },
     "execution_count": 9,
     "metadata": {},
     "output_type": "execute_result"
    },
    {
     "data": {
      "image/png": "[encoded data removed]",
      "text/plain": [
       "<Figure size 432x288 with 1 Axes>"
      ]
     },
     "metadata": {
      "needs_background": "light"
     },
     "output_type": "display_data"
    }
   ],
   "source": [
    "iterations = [x for x in range(len(g))]\n",
    "plt.plot(iterations, g)"
   ]
  },
  {
   "cell_type": "markdown",
   "metadata": {},
   "source": [
    "Как видно, наши оценки максимально близки к теоретической вероятности"
   ]
  },
  {
   "cell_type": "code",
   "execution_count": 10,
   "metadata": {},
   "outputs": [
    {
     "data": {
      "text/plain": [
       "0.37490495000000007"
      ]
     },
     "execution_count": 10,
     "metadata": {},
     "output_type": "execute_result"
    }
   ],
   "source": [
    "np.mean(g)"
   ]
  },
  {
   "cell_type": "markdown",
   "metadata": {},
   "source": [
    "## Задание 4"
   ]
  },
  {
   "cell_type": "markdown",
   "metadata": {},
   "source": [
    "Сколькими способами можно выстроить в очередь 5 человек"
   ]
  },
  {
   "cell_type": "code",
   "execution_count": 99,
   "metadata": {},
   "outputs": [
    {
     "name": "stdout",
     "output_type": "stream",
     "text": [
      "12345\n",
      "12354\n",
      "12435\n",
      "12453\n",
      "12534\n",
      "12543\n",
      "13245\n",
      "13254\n",
      "13425\n",
      "13452\n",
      "13524\n",
      "13542\n",
      "14235\n",
      "14253\n",
      "14325\n",
      "14352\n",
      "14523\n",
      "14532\n",
      "15234\n",
      "15243\n",
      "15324\n",
      "15342\n",
      "15423\n",
      "15432\n",
      "21345\n",
      "21354\n",
      "21435\n",
      "21453\n",
      "21534\n",
      "21543\n",
      "23145\n",
      "23154\n",
      "23415\n",
      "23451\n",
      "23514\n",
      "23541\n",
      "24135\n",
      "24153\n",
      "24315\n",
      "24351\n",
      "24513\n",
      "24531\n",
      "25134\n",
      "25143\n",
      "25314\n",
      "25341\n",
      "25413\n",
      "25431\n",
      "31245\n",
      "31254\n",
      "31425\n",
      "31452\n",
      "31524\n",
      "31542\n",
      "32145\n",
      "32154\n",
      "32415\n",
      "32451\n",
      "32514\n",
      "32541\n",
      "34125\n",
      "34152\n",
      "34215\n",
      "34251\n",
      "34512\n",
      "34521\n",
      "35124\n",
      "35142\n",
      "35214\n",
      "35241\n",
      "35412\n",
      "35421\n",
      "41235\n",
      "41253\n",
      "41325\n",
      "41352\n",
      "41523\n",
      "41532\n",
      "42135\n",
      "42153\n",
      "42315\n",
      "42351\n",
      "42513\n",
      "42531\n",
      "43125\n",
      "43152\n",
      "43215\n",
      "43251\n",
      "43512\n",
      "43521\n",
      "45123\n",
      "45132\n",
      "45213\n",
      "45231\n",
      "45312\n",
      "45321\n",
      "51234\n",
      "51243\n",
      "51324\n",
      "51342\n",
      "51423\n",
      "51432\n",
      "52134\n",
      "52143\n",
      "52314\n",
      "52341\n",
      "52413\n",
      "52431\n",
      "53124\n",
      "53142\n",
      "53214\n",
      "53241\n",
      "53412\n",
      "53421\n",
      "54123\n",
      "54132\n",
      "54213\n",
      "54231\n",
      "54312\n",
      "54321\n"
     ]
    }
   ],
   "source": [
    "for i in itertools.permutations('12345', 5):\n",
    "    print(''.join(str(x) for x in i))"
   ]
  },
  {
   "cell_type": "code",
   "execution_count": null,
   "metadata": {},
   "outputs": [],
   "source": []
  },
  {
   "cell_type": "markdown",
   "metadata": {},
   "source": [
    "## Задание 5"
   ]
  },
  {
   "cell_type": "code",
   "execution_count": 59,
   "metadata": {},
   "outputs": [],
   "source": [
    "x = np.random.normal(170,10,1000)"
   ]
  },
  {
   "cell_type": "code",
   "execution_count": 60,
   "metadata": {},
   "outputs": [],
   "source": [
    "y = x - np.random.normal(100,10,1000)"
   ]
  },
  {
   "cell_type": "code",
   "execution_count": 61,
   "metadata": {},
   "outputs": [
    {
     "data": {
      "text/plain": [
       "array([[1.        , 0.73883843],\n",
       "       [0.73883843, 1.        ]])"
      ]
     },
     "execution_count": 61,
     "metadata": {},
     "output_type": "execute_result"
    }
   ],
   "source": [
    "np.corrcoef(x, y)"
   ]
  },
  {
   "cell_type": "code",
   "execution_count": 62,
   "metadata": {},
   "outputs": [],
   "source": [
    "R =  np.sum((x - np.mean(x))*(y - np.mean(y)))/(sqrt(np.sum(((x - np.mean(x)) **2))*(np.sum(((y - np.mean(y)) **2)))))"
   ]
  },
  {
   "cell_type": "code",
   "execution_count": 63,
   "metadata": {},
   "outputs": [
    {
     "data": {
      "text/plain": [
       "0.7388384276719285"
      ]
     },
     "execution_count": 63,
     "metadata": {},
     "output_type": "execute_result"
    }
   ],
   "source": [
    "R"
   ]
  },
  {
   "cell_type": "code",
   "execution_count": null,
   "metadata": {},
   "outputs": [],
   "source": []
  }
 ],
 "metadata": {
  "kernelspec": {
   "display_name": "Python 3",
   "language": "python",
   "name": "python3"
  },
  "language_info": {
   "codemirror_mode": {
    "name": "ipython",
    "version": 3
   },
   "file_extension": ".py",
   "mimetype": "text/x-python",
   "name": "python",
   "nbconvert_exporter": "python",
   "pygments_lexer": "ipython3",
   "version": "3.8.5"
  }
 },
 "nbformat": 4,
 "nbformat_minor": 4
}
